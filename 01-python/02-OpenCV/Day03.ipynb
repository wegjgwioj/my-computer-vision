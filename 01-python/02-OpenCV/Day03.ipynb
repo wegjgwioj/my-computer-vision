{
 "cells": [
  {
   "cell_type": "markdown",
   "metadata": {},
   "source": [
    "# 图像滤波\n",
    "滤波器：卷积核；\n",
    "\n",
    "\n",
    "滤波的过程：卷积；\n",
    "\n",
    "\n",
    "## 卷积基本概念\n",
    "奇数为主： 3x3，7x7... (Padding+锚点在中间)\n",
    "\n",
    "* 卷积核越大，感受野越大（信息大），但是计算量也大\n",
    "\n",
    "* 锚点 ：正中心\n",
    "\n",
    "* 边界扩充： 保证输出与输入相等大小\n",
    "\n",
    "* 计算公式：\n",
    "$N = \\frac{(W-F+2 P)}{s} + 1$ \n",
    " {N :输入大小。w:源大小；F卷积核大小；P扩充尺寸；S步长大小 }\n",
    "\n",
    "* 步长 每次前进几格"
   ]
  },
  {
   "cell_type": "code",
   "execution_count": 1,
   "metadata": {},
   "outputs": [],
   "source": [
    "import cv2 as cv\n",
    "import numpy as  np"
   ]
  },
  {
   "cell_type": "markdown",
   "metadata": {},
   "source": [
    "## 滤波\n",
    "* 低通 ： 去除噪音/平滑图片\n",
    "* 高通： 查找图像边缘"
   ]
  },
  {
   "cell_type": "code",
   "execution_count": null,
   "metadata": {},
   "outputs": [],
   "source": [
    "\n",
    "\n",
    "# 实战卷积\n",
    "#cv.filter2D(src,ddepth,kernel,anchor,delta,borderType)\n",
    "img = cv.imread('test.png')\n",
    "\n",
    "kernel = np.ones((5,5),np.float32)/25\n",
    "\n",
    "out=cv.filter2D(img,-1,kernel)\n",
    "cv.imshow('out',out)\n",
    "cv.imshow('img',img)\n",
    "cv.waitKey(0)\n",
    "\n"
   ]
  },
  {
   "cell_type": "markdown",
   "metadata": {},
   "source": [
    "\n",
    "### 低通\n",
    "K =$\\alpha \\left[\\begin{array}{c} 1 &1 &1\\\\ 1 &1 &1\\\\1 &1 &1\\\\1 &1 &1\\\\... &... &...\\\\ \\end{array}\\right]$\n",
    "$\\alpha $ \n",
    "#### 方盒滤波\n",
    "boxFilter()\n",
    "#### 均值滤波\n",
    "blur()\n"
   ]
  },
  {
   "cell_type": "code",
   "execution_count": null,
   "metadata": {},
   "outputs": [],
   "source": [
    "\n",
    "# 实战卷积\n",
    "\n",
    "img = cv.imread('test.png')\n",
    "\n",
    "\n",
    "\n",
    "\n",
    "\n",
    "cv.imshow('img',img)\n",
    "cv.waitKey(0)"
   ]
  },
  {
   "cell_type": "markdown",
   "metadata": {},
   "source": [
    "#### 高斯滤波（中型。。）\n",
    "\n"
   ]
  },
  {
   "cell_type": "code",
   "execution_count": null,
   "metadata": {},
   "outputs": [],
   "source": [
    "# GaussianBlur（）\n"
   ]
  },
  {
   "cell_type": "markdown",
   "metadata": {},
   "source": [
    "#### 中值滤波\n",
    "专治 胡椒噪音\n",
    "\n"
   ]
  },
  {
   "cell_type": "code",
   "execution_count": null,
   "metadata": {},
   "outputs": [],
   "source": [
    "# mediaBlur()"
   ]
  },
  {
   "cell_type": "markdown",
   "metadata": {},
   "source": [
    "#### 双边滤波\n",
    "美颜"
   ]
  },
  {
   "cell_type": "code",
   "execution_count": null,
   "metadata": {},
   "outputs": [],
   "source": []
  },
  {
   "cell_type": "code",
   "execution_count": null,
   "metadata": {},
   "outputs": [],
   "source": []
  },
  {
   "cell_type": "markdown",
   "metadata": {},
   "source": [
    "### 高通--边缘\n"
   ]
  },
  {
   "cell_type": "markdown",
   "metadata": {},
   "source": [
    "* Sobel\n",
    "* Scharr\n",
    "* Laplacian\n",
    "* Canny\n",
    "\n"
   ]
  },
  {
   "cell_type": "code",
   "execution_count": null,
   "metadata": {},
   "outputs": [],
   "source": []
  },
  {
   "cell_type": "markdown",
   "metadata": {},
   "source": [
    "# 形态学"
   ]
  },
  {
   "cell_type": "markdown",
   "metadata": {},
   "source": [
    "* 腐蚀与膨胀\n",
    "* 开运算\n",
    "* 闭运算\n",
    "* 顶帽\n",
    "* 黑帽"
   ]
  },
  {
   "cell_type": "markdown",
   "metadata": {},
   "source": [
    "### 图像全局二值化\n"
   ]
  },
  {
   "cell_type": "code",
   "execution_count": null,
   "metadata": {},
   "outputs": [],
   "source": [
    "# binary   binary_Inv\n",
    "# Trunc\n",
    "# tozero   tozero_Inv\n",
    "imgth =cv.imread('test.png')\n",
    "cv.imshow('img',imgth)\n",
    "imgth=cv.cvtColor(imgth,cv.COLOR_BGR2GRAY)\n",
    "cv.imshow('gray',imgth)\n",
    "ret,imgth2=cv.threshold(imgth,60,255,cv.THRESH_BINARY) # \n",
    "cv.imshow('bin',imgth2)\n",
    "cv.waitKey(0)"
   ]
  },
  {
   "cell_type": "markdown",
   "metadata": {},
   "source": [
    "### 阈值类型\n",
    "  * binary : 高于阈值为 max，低于阈值 为min\n",
    "  * Trunc： 高于阈值的均改为阈值，低于阈值不变（削峰操作）\n",
    "  * tozero 低于阈值为0，否则保留\n"
   ]
  },
  {
   "cell_type": "markdown",
   "metadata": {},
   "source": [
    "###  自适应阈值二值化\n",
    "   光照不均匀导致阴影处不准\n",
    "   "
   ]
  },
  {
   "cell_type": "code",
   "execution_count": null,
   "metadata": {},
   "outputs": [],
   "source": [
    "# adap\n",
    "#cv.adaptiveThreshold(src=,maxValue=,adaptiveMethod=邻近/高斯加权平均,thresholdType=阈值类型,blockSize=块大小,C=,dst=)\n"
   ]
  },
  {
   "attachments": {
    "image.png": {
     "image/png": "[encoded data removed]"
    }
   },
   "cell_type": "markdown",
   "metadata": {},
   "source": [
    "### Open CV 腐蚀\n",
    "![image/image.png](attachment:image.png)"
   ]
  },
  {
   "cell_type": "code",
   "execution_count": null,
   "metadata": {},
   "outputs": [],
   "source": [
    "#  cv.erode(img,kernel,iterations)\n",
    "img = cv.imread('image/image copy.png')\n",
    "kernel= np.ones((3,3),np.uint8)\n",
    "output= cv.erode(img,kernel,iterations=3)\n",
    "cv.imshow('img',img)\n",
    "cv.imshow('output',output)\n",
    "cv.waitKey(0)"
   ]
  },
  {
   "cell_type": "markdown",
   "metadata": {},
   "source": [
    "### 获取形态学卷积核\n"
   ]
  },
  {
   "cell_type": "code",
   "execution_count": null,
   "metadata": {},
   "outputs": [],
   "source": [
    "# cv.getStructuringElement(type,size)\n",
    "# 卷积核类型\n",
    "img = cv.imread('image/image copy.png')\n",
    "# kernel= np.ones((3,3),np.uint8)\n",
    "kernel1= cv.getStructuringElement(cv.MORPH_RECT,(7,7))\n",
    "print(kernel1)\n",
    "print('------------------------------')\n",
    "kernel2= cv.getStructuringElement(cv.MORPH_ELLIPSE,(7,7))\n",
    "print(kernel2)\n",
    "print('------------------------------')\n",
    "kernel3= cv.getStructuringElement(cv.MORPH_CROSS,(7,7))\n",
    "print(kernel3)\n",
    "print('------------------------------')\n",
    "output= cv.erode(img,kernel1,iterations=1)\n",
    "cv.imshow('img',img)\n",
    "cv.imshow('output',output)\n",
    "cv.waitKey(0)"
   ]
  },
  {
   "cell_type": "markdown",
   "metadata": {},
   "source": [
    "### Open CV 膨胀"
   ]
  },
  {
   "cell_type": "code",
   "execution_count": null,
   "metadata": {},
   "outputs": [],
   "source": [
    "# cv.dilate(img,kernel,iterations)\n",
    "img = cv.imread('image/image copy.png')\n",
    "# kernel= np.ones((3,3),np.uint8)\n",
    "kernel1= cv.getStructuringElement(cv.MORPH_RECT,(7,7))\n",
    "print(kernel1)\n",
    "print('------------------------------')\n",
    "\n",
    "output= cv.dilate(img,kernel1,iterations=3)\n",
    "cv.imshow('img',img)\n",
    "cv.imshow('output',output)\n",
    "cv.waitKey(0)"
   ]
  },
  {
   "cell_type": "markdown",
   "metadata": {},
   "source": [
    "* 卷积核是否可以全0？"
   ]
  },
  {
   "cell_type": "code",
   "execution_count": null,
   "metadata": {},
   "outputs": [],
   "source": [
    "# cv.dilate(img,kernel,iterations)\n",
    "img = cv.imread('image/image copy.png')\n",
    "kernel1= np.zeros((3,3),np.uint8)\n",
    "output= cv.dilate(img,kernel1,iterations=3)\n",
    "cv.imshow('img',img)\n",
    "cv.imshow('output',output)\n",
    "cv.waitKey(0)"
   ]
  },
  {
   "cell_type": "markdown",
   "metadata": {},
   "source": [
    "## 开运算  、闭运算\n",
    "  开运算  = 先腐蚀，在膨胀\n",
    "  \n",
    "  闭运算  = 先膨胀，在腐蚀"
   ]
  },
  {
   "cell_type": "code",
   "execution_count": null,
   "metadata": {},
   "outputs": [],
   "source": [
    "#cv.morphologyEx()\n",
    "#\n"
   ]
  },
  {
   "attachments": {
    "image.png": {
     "image/png": "[encoded data removed]"
    }
   },
   "cell_type": "markdown",
   "metadata": {},
   "source": [
    "## 形态学梯度\n",
    " 梯度= 原图 - 腐蚀图\n",
    " ![image/image/image1.png](attachment:image.png)"
   ]
  },
  {
   "cell_type": "markdown",
   "metadata": {},
   "source": [
    "## 顶帽运算\n",
    "顶帽运算 = 原图 - 开运算\n"
   ]
  },
  {
   "cell_type": "markdown",
   "metadata": {},
   "source": [
    "## 黑帽运算\n",
    "黑帽 = 原图 - 开运算"
   ]
  },
  {
   "cell_type": "markdown",
   "metadata": {},
   "source": [
    "# 图像轮廓： \n",
    "具有相同颜色或强度的连续点的曲线\n",
    "\n",
    "* 二值化/Canny 提高准确性"
   ]
  },
  {
   "cell_type": "markdown",
   "metadata": {},
   "source": [
    "## 查找轮廓并绘制"
   ]
  },
  {
   "cell_type": "code",
   "execution_count": null,
   "metadata": {},
   "outputs": [],
   "source": [
    "img=cv.imread('test02.png')\n",
    "# 单通道\n",
    "gray = cv.cvtColor(img,cv.COLOR_BGR2GRAY) \n",
    "\n",
    "# 二值化\n",
    "ret,binary=cv.threshold(gray,150,255,cv.THRESH_BINARY)\n",
    "\n",
    "# 找轮廓\n",
    "contours,hierarchy=cv.findContours(binary,cv.RETR_EXTERNAL,cv.CHAIN_APPROX_SIMPLE)\n",
    "\n",
    "# 绘制\n",
    "cv.drawContours(binary,contours,-1,(0,0,255),1)\n",
    "\n",
    "cv.imshow('binary',binary)\n",
    "cv.waitKey(0)"
   ]
  },
  {
   "cell_type": "markdown",
   "metadata": {},
   "source": [
    "## 轮廓的面积和周长\n"
   ]
  },
  {
   "cell_type": "code",
   "execution_count": null,
   "metadata": {},
   "outputs": [],
   "source": [
    "img=cv.imread('test02.png')\n",
    "# 单通道\n",
    "gray = cv.cvtColor(img,cv.COLOR_BGR2GRAY) \n",
    "\n",
    "# 二值化\n",
    "ret,binary=cv.threshold(gray,150,255,cv.THRESH_BINARY)\n",
    "\n",
    "# 找轮廓\n",
    "contours,hierarchy=cv.findContours(binary,cv.RETR_EXTERNAL,cv.CHAIN_APPROX_SIMPLE)\n",
    "\n",
    "# 绘制\n",
    "cv.drawContours(binary,contours,-1,(0,0,255),1)\n",
    "#计算面积\n",
    "area = cv.contourArea(contours[0])\n",
    "print(\"area =%d\"%(area))\n",
    "# 周长\n",
    "len = cv.arcLength(contours[0],True)\n",
    "print(\"len =%d\"%(len))\n",
    "cv.imshow('binary',binary)\n",
    "cv.waitKey(0)"
   ]
  },
  {
   "cell_type": "markdown",
   "metadata": {},
   "source": [
    "## 多边形逼近 和 凸包\n"
   ]
  },
  {
   "cell_type": "code",
   "execution_count": null,
   "metadata": {},
   "outputs": [],
   "source": [
    "def drawShape(src,points):\n",
    "    i=0\n",
    "    while i < len(points):\n",
    "        if i == len(points) - 1 :\n",
    "            x,y =points[i][0]\n",
    "            x1,y1 = points[0][0]\n",
    "            cv.line(src,(x,y),(x1,y1),(0,0,255),3)\n",
    "        else:\n",
    "             x,y =points[i][0]\n",
    "             x1,y1 = points[i+1][0]\n",
    "             cv.line(src,(x,y),(x1,y1),(0,0,255),3)\n",
    "        i=i+1\n",
    "img=cv.imread('image/image3.png')\n",
    "# 单通道\n",
    "gray = cv.cvtColor(img,cv.COLOR_BGR2GRAY) \n",
    "\n",
    "# 二值化\n",
    "ret,binary=cv.threshold(gray,150,255,cv.THRESH_BINARY)\n",
    "\n",
    "# 找轮廓\n",
    "contours,hierarchy=cv.findContours(binary,cv.RETR_EXTERNAL,cv.CHAIN_APPROX_SIMPLE)\n",
    "\n",
    "# 绘制\n",
    "cv.drawContours(img,contours,-1,(0,0,255),1)\n",
    "e=20\n",
    "approx = cv.approxPolyDP(contours[0],e,True)\n",
    "drawShape(img,approx)\n",
    "\n",
    "# 凸包\n",
    "huff=cv.convexHull(contours[0])\n",
    "drawShape(img,huff)\n",
    "\n",
    "\n",
    "cv.imshow('img',img)\n",
    "cv.waitKey(0)"
   ]
  },
  {
   "cell_type": "markdown",
   "metadata": {},
   "source": [
    "## 外接矩阵\n",
    "* min\n",
    "* max\n"
   ]
  },
  {
   "cell_type": "code",
   "execution_count": null,
   "metadata": {},
   "outputs": [],
   "source": [
    "def drawShape(src,points):\n",
    "    i=0\n",
    "    while i < len(points):\n",
    "        if i == len(points) - 1 :\n",
    "            x,y =points[i][0]\n",
    "            x1,y1 = points[0][0]\n",
    "            cv.line(src,(x,y),(x1,y1),(0,0,255),3)\n",
    "        else:\n",
    "             x,y =points[i][0]\n",
    "             x1,y1 = points[i+1][0]\n",
    "             cv.line(src,(x,y),(x1,y1),(0,0,255),3)\n",
    "        i=i+1\n",
    "img=cv.imread('image/image4.png')\n",
    "# 单通道\n",
    "gray = cv.cvtColor(img,cv.COLOR_BGR2GRAY) \n",
    "\n",
    "# 二值化\n",
    "ret,binary=cv.threshold(gray,150,255,cv.THRESH_BINARY)\n",
    "\n",
    "# 找轮廓\n",
    "contours,hierarchy=cv.findContours(binary,cv.RETR_EXTERNAL,cv.CHAIN_APPROX_SIMPLE)\n",
    "\n",
    "\n",
    "r=cv.minAreaRect(contours[32])\n",
    "box=cv.boxPoints(r) #\n",
    "box =np.int0(box)\n",
    "cv.drawContours(img,[box],0,(0,0,255),2)\n",
    "\n",
    "x,y,w,h=cv.boundingRect(contours[32])\n",
    "cv.rectangle(img,(x,y),(x+w,y+h),(255,0,0),2)\n",
    "\n",
    "\n",
    "cv.imshow('img',img)\n",
    "cv.waitKey(0)"
   ]
  }
 ],
 "metadata": {
  "kernelspec": {
   "display_name": "OpenCV",
   "language": "python",
   "name": "python3"
  },
  "language_info": {
   "codemirror_mode": {
    "name": "ipython",
    "version": 3
   },
   "file_extension": ".py",
   "mimetype": "text/x-python",
   "name": "python",
   "nbconvert_exporter": "python",
   "pygments_lexer": "ipython3",
   "version": "3.8.20"
  }
 },
 "nbformat": 4,
 "nbformat_minor": 2
}
