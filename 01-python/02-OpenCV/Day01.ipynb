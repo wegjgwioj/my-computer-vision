{
 "cells": [
  {
   "cell_type": "markdown",
   "metadata": {},
   "source": [
    "# Opencv\n",
    "* "
   ]
  },
  {
   "cell_type": "code",
   "execution_count": 3,
   "metadata": {},
   "outputs": [],
   "source": [
    "import cv2 as cv\n",
    "import numpy as np\n",
    "import sys"
   ]
  },
  {
   "cell_type": "code",
   "execution_count": null,
   "metadata": {},
   "outputs": [],
   "source": [
    "img = cv.imread('./test.png') # 读取图片\n",
    "cv.imshow('image', img) # 显示图片\n",
    "cv.waitKey(0) # 等待按键\n",
    "cv.destroyAllWindows() # 关闭窗口"
   ]
  },
  {
   "cell_type": "markdown",
   "metadata": {},
   "source": [
    "# 创建 和 显示 窗口\n"
   ]
  },
  {
   "cell_type": "code",
   "execution_count": null,
   "metadata": {},
   "outputs": [],
   "source": [
    "cv.namedWindow('image', cv.WINDOW_NORMAL) # 创建一个可以调整大小的窗口\n",
    "cv.imshow('image', img) # 显示图片\n",
    "#cv.resizeWindow('image', 600, 600) # 调整窗口大小\n",
    "cv.imwrite('./testcopy.jpg', img) # 保存图片\n",
    "cv.waitKey(0) # 等待按键\n",
    "cv.destroyAllWindows() # 关闭窗口\n",
    "\n"
   ]
  },
  {
   "cell_type": "markdown",
   "metadata": {},
   "source": [
    "# 采集视频\n"
   ]
  },
  {
   "cell_type": "code",
   "execution_count": null,
   "metadata": {},
   "outputs": [],
   "source": [
    "# 读取视频\n",
    "'''\n",
    "cap = cv.VideoCapture(0)  # 0表示摄像头\n",
    "while True:\n",
    "    ret, frame = cap.read()  # 读取视频帧，ret表示是否读取成功\n",
    "    if not ret:\n",
    "        print('Can\\'t receive frame (stream end?). Exiting ...')\n",
    "        break\n",
    "    cv.imshow('frame', frame)  # 显示视频帧\n",
    "    if cv.waitKey(1) & 0xFF == ord('q'):  # 按q退出\n",
    "        break\n",
    "'''"
   ]
  },
  {
   "cell_type": "markdown",
   "metadata": {},
   "source": [
    "# 视频录制"
   ]
  },
  {
   "cell_type": "code",
   "execution_count": 5,
   "metadata": {},
   "outputs": [],
   "source": [
    "# 视频录制\n",
    "#创建一个VideoWriter对象，设置保存视频的名称，编码方式，帧率，分辨率\n",
    "video = cv.VideoWriter('output.avi', cv.VideoWriter_fourcc(*'XVID'), 20.0, (1280, 720))  # 保存视频 (1280,720)是我的摄像头的分辨率\n",
    "cap = cv.VideoCapture(0)  # 0表示摄像头\n",
    "while True:\n",
    "    ret, frame = cap.read()  # 读取视频帧，ret表示是否读取成功\n",
    "    \n",
    "    cv.imshow('frame', frame)  # 显示视频帧\n",
    "    video.write(frame)  # 写入视频\n",
    "    if cv.waitKey(1) & 0xFF == ord('q'):  # 按q退出\n",
    "        break\n",
    "# 释放资源\n",
    "cap.release()\n",
    "video.release()\n",
    "cv.destroyAllWindows()\n",
    "\n",
    "\n",
    "\n"
   ]
  },
  {
   "cell_type": "code",
   "execution_count": 9,
   "metadata": {},
   "outputs": [],
   "source": [
    "# 播放本地视频\n",
    "cap = cv.VideoCapture('output.avi')  # 读取视频\n",
    "while cap.isOpened():\n",
    "    ret, frame = cap.read()\n",
    "    if not ret:\n",
    "        print('Can\\'t receive frame (stream end?)')\n",
    "        break\n",
    "    cv.imshow('frame', frame)   \n",
    "    if cv.waitKey(1) & 0xFF == ord('q'):\n",
    "        break\n",
    "cap.release()\n",
    "cv.destroyAllWindows()\n"
   ]
  },
  {
   "cell_type": "markdown",
   "metadata": {},
   "source": [
    "# Open CV 控制 鼠标\n",
    " "
   ]
  },
  {
   "cell_type": "code",
   "execution_count": null,
   "metadata": {},
   "outputs": [],
   "source": [
    "import cv2 as cv\n",
    "import numpy as np\n",
    "\n",
    "# 全局变量定义\n",
    "drawing = False  # 左键按下标志\n",
    "start_point = (-1, -1)  # 绘图起始点\n",
    "current_img = None  # 当前画布\n",
    "\n",
    "def mouse_callback(event, x, y, flags, param):\n",
    "    global drawing, start_point, current_img\n",
    "\n",
    "    # 左键按下事件\n",
    "    if event == cv.EVENT_LBUTTONDOWN:\n",
    "        drawing = True\n",
    "        start_point = (x, y)\n",
    "        print(f\"Start drawing at {start_point}\")\n",
    "\n",
    "    # 鼠标移动事件（左键长按拖动时持续绘制）\n",
    "    elif event == cv.EVENT_MOUSEMOVE:\n",
    "        if drawing:\n",
    "            # 实时绘制线段\n",
    "            cv.line(current_img, start_point, (x, y), (0, 255, 0), 2)\n",
    "            start_point = (x, y)  # 更新起始点为当前点\n",
    "\n",
    "    # 左键释放事件\n",
    "    elif event == cv.EVENT_LBUTTONUP:\n",
    "        drawing = False\n",
    "        print(\"Stop drawing\")\n",
    "\n",
    "    # 右键按下保存图像\n",
    "    elif event == cv.EVENT_RBUTTONDOWN:\n",
    "        cv.imwrite('drawing_output.jpg', current_img)\n",
    "        print(\"Image saved as drawing_output.jpg\")\n",
    "\n",
    "# 初始化窗口和画布\n",
    "cv.namedWindow('mouse', cv.WINDOW_NORMAL)\n",
    "current_img = np.zeros((360, 640, 3), dtype=np.uint8)  # 黑色背景\n",
    "cv.setMouseCallback('mouse', mouse_callback)\n",
    "\n",
    "# 主循环\n",
    "while True:\n",
    "    cv.imshow('mouse', current_img)\n",
    "    key = cv.waitKey(1)\n",
    "    if key == ord('q'):\n",
    "        break\n",
    "\n",
    "cv.destroyAllWindows()"
   ]
  },
  {
   "cell_type": "markdown",
   "metadata": {},
   "source": [
    "# TrackBar"
   ]
  },
  {
   "cell_type": "code",
   "execution_count": null,
   "metadata": {},
   "outputs": [],
   "source": [
    "def nothing(x):\n",
    "    pass\n",
    "\n",
    "# \n",
    "cv.namedWindow('image')\n",
    "\n",
    "# \n",
    "cv.createTrackbar('R', 'image', 0, 255, nothing)\n",
    "cv.createTrackbar('G', 'image', 0, 255, nothing)\n",
    "cv.createTrackbar('B', 'image', 0, 255, nothing)\n",
    "\n",
    "while True:\n",
    "    #\n",
    "    r = cv.getTrackbarPos('R', 'image')\n",
    "    g = cv.getTrackbarPos('G', 'image')\n",
    "    b = cv.getTrackbarPos('B', 'image')\n",
    "\n",
    "    # \n",
    "    img[:] = [b, g, r]\n",
    "\n",
    "    # 显示\n",
    "    cv.imshow('image', img)\n",
    "    key = cv.waitKey(1) & 0xFF\n",
    "    if key == ord('q'):  \n",
    "        break\n",
    "\n",
    "\n",
    "cv.destroyAllWindows()"
   ]
  },
  {
   "cell_type": "markdown",
   "metadata": {},
   "source": [
    "# 色彩空间\n"
   ]
  },
  {
   "cell_type": "code",
   "execution_count": null,
   "metadata": {},
   "outputs": [],
   "source": [
    "#RGB:\n",
    "# BGR()\n",
    "#YUV：\n",
    "# HSV:\n",
    "#HLS:\n",
    "\n",
    "image = cv.imread(\"test.png\") # 格式：BGR\n",
    "# 转换\n",
    "rgb = cv.cvtColor(image,cv.COLOR_BGR2RGB)\n",
    "yuv = cv.cvtColor(image, cv.COLOR_BGR2YUV)\n",
    "hsv = cv.cvtColor(image, cv.COLOR_BGR2HSV)\n",
    "hls = cv.cvtColor(image, cv.COLOR_BGR2HLS)\n",
    "\n",
    "cv.imshow('BGR',image)\n",
    "cv.imshow(\"RGB\", rgb)\n",
    "\n",
    "# 显示Y通道（灰度）\n",
    "y_channel = yuv[:, :, 0]\n",
    "cv.imshow(\"Y Channel\", y_channel)\n",
    "cv.imshow(\"hsv\",hsv)\n",
    "cv.imshow(\"hls\",hls)\n",
    "cv.waitKey(0)"
   ]
  },
  {
   "cell_type": "markdown",
   "metadata": {},
   "source": [
    "\n",
    "|颜色空间\t|核心优势|\t典型应用| \n",
    "|--|--|--| \n",
    "|​BGR\t|OpenCV默认读取格式\t|图像加载、基本处理| \n",
    "|​RGB\t|符合通用显示标准\t|Matplotlib可视化| \n",
    "|​YUV\t|高效压缩、分离亮度\t|视频编码、传输| \n",
    "|​HSV\t|颜色分割鲁棒性高\t|目标检测（如车牌、物体追踪）| \n",
    "|​HSL\t|亮度感知更自然  \t|  图像增强、光照调整| \n"
   ]
  },
  {
   "cell_type": "markdown",
   "metadata": {},
   "source": [
    "# 图像的运算\n"
   ]
  },
  {
   "cell_type": "code",
   "execution_count": 22,
   "metadata": {},
   "outputs": [
    {
     "data": {
      "text/plain": [
       "-1"
      ]
     },
     "execution_count": 22,
     "metadata": {},
     "output_type": "execute_result"
    }
   ],
   "source": [
    "# 加减乘除\n",
    "\n",
    "# 图像融合\n",
    "back = cv.imread('test.png')\n",
    "smallflower= cv.imread('test02.png')\n",
    "# 尺寸一致调节\n",
    "h,w=back.shape[:2]\n",
    "smallflower=cv.resize(smallflower,(w,h),interpolation=cv.INTER_LINEAR)\n",
    "\n",
    "result = cv.addWeighted(smallflower,0.3,back,0.7,0)# \n",
    "cv.imshow('add',result)\n",
    "cv.waitKey(0)\n",
    "\n"
   ]
  },
  {
   "cell_type": "markdown",
   "metadata": {},
   "source": [
    "### 位运算"
   ]
  },
  {
   "cell_type": "code",
   "execution_count": null,
   "metadata": {},
   "outputs": [],
   "source": [
    "# "
   ]
  },
  {
   "cell_type": "markdown",
   "metadata": {},
   "source": [
    "# 水印"
   ]
  },
  {
   "cell_type": "code",
   "execution_count": 5,
   "metadata": {},
   "outputs": [
    {
     "data": {
      "text/plain": [
       "-1"
      ]
     },
     "execution_count": 5,
     "metadata": {},
     "output_type": "execute_result"
    }
   ],
   "source": [
    "# 读图\n",
    "\n",
    "#logo\n",
    "\n",
    "# 计算位置，抠图（黑色）\n",
    "\n",
    "# add 叠加\n",
    "\n",
    "dog = cv.imread('test.png')\n",
    "\n",
    "logo = np.zeros((200,200,3),np.uint8)\n",
    "mask = np.zeros((200,200),np.uint8)\n",
    "\n",
    "# logo\n",
    "\n",
    "logo[20:120,20:120]=[0,0,255]\n",
    "logo[80:120,80:120]=[0,0,255]\n",
    "\n",
    "mask[20:120,20:120]=255\n",
    "mask[80:120,80:120]=255\n",
    "\n",
    "# \n",
    "m=cv.bitwise_not(mask)\n",
    "\n",
    "roi=dog[0:200,0:200]\n",
    "tmp=cv.bitwise_and(roi,roi,mask=m)\n",
    "\n",
    "dist=cv.add(tmp,logo)\n",
    "\n",
    "dog[0:200,0:200]=dist\n",
    "\n",
    "cv.imshow('dog',dog)\n",
    "cv.imshow('dist',dist)\n",
    "cv.imshow('mask',mask)\n",
    "\n",
    "cv.waitKey(0)"
   ]
  }
 ],
 "metadata": {
  "kernelspec": {
   "display_name": "OpenCV",
   "language": "python",
   "name": "python3"
  },
  "language_info": {
   "codemirror_mode": {
    "name": "ipython",
    "version": 3
   },
   "file_extension": ".py",
   "mimetype": "text/x-python",
   "name": "python",
   "nbconvert_exporter": "python",
   "pygments_lexer": "ipython3",
   "version": "3.8.20"
  }
 },
 "nbformat": 4,
 "nbformat_minor": 2
}
