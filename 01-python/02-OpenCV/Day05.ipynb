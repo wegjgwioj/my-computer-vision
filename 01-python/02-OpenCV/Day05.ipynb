{
 "cells": [
  {
   "cell_type": "markdown",
   "metadata": {},
   "source": [
    "# 特征检测\n"
   ]
  },
  {
   "cell_type": "code",
   "execution_count": 3,
   "metadata": {},
   "outputs": [],
   "source": [
    "\n",
    "import cv2 as cv\n",
    "import numpy as np"
   ]
  },
  {
   "cell_type": "markdown",
   "metadata": {},
   "source": [
    "## Harris 角点\n"
   ]
  },
  {
   "cell_type": "code",
   "execution_count": 6,
   "metadata": {},
   "outputs": [
    {
     "data": {
      "text/plain": [
       "-1"
      ]
     },
     "execution_count": 6,
     "metadata": {},
     "output_type": "execute_result"
    }
   ],
   "source": [
    "# cv.cornerHarris(img,dst,blockSize,ksize,k)\n",
    "\n",
    "img =cv.imread('test.png')\n",
    "blockSize=2\n",
    "ksize=3\n",
    "k=0.04\n",
    "#灰度化\n",
    "gray = cv.cvtColor(img,cv.COLOR_BGR2GRAY)\n",
    "\n",
    "dst =cv.cornerHarris(gray,blockSize,ksize,k)\n",
    "\n",
    "img[dst>0.01*dst.max()] =[0,0,255]\n",
    "\n",
    "cv.imshow('img',img)\n",
    "cv.waitKey(0)"
   ]
  },
  {
   "cell_type": "markdown",
   "metadata": {},
   "source": [
    "## shi -Tomasi 角点"
   ]
  },
  {
   "cell_type": "code",
   "execution_count": null,
   "metadata": {},
   "outputs": [],
   "source": [
    "# cv.goodFeaturesToTrack()\n"
   ]
  },
  {
   "cell_type": "markdown",
   "metadata": {},
   "source": [
    "## SIFT(尺度变换特征变换)\n",
    "Harris 缺点 图片放缩导致 特征点变动\n",
    "\n",
    "* 关键点：位置、大小、方向\n",
    "* 描述子 ：关键点周围对其有贡献的像素点的一组向量值"
   ]
  },
  {
   "cell_type": "code",
   "execution_count": null,
   "metadata": {},
   "outputs": [],
   "source": [
    "img =cv.imread('test.png')\n",
    "\n",
    "#灰度化\n",
    "gray = cv.cvtColor(img,cv.COLOR_BGR2GRAY)\n",
    "# 创建sift\n",
    "sift = cv.SIFT.create()\n",
    "# 检测 kepoints，描述子\n",
    "kp,des = sift.detectAndCompute(gray,None)\n",
    "# print(des)\n",
    "# 绘制kp\n",
    "cv.drawKeypoints(gray,kp,img)\n",
    "\n",
    "cv.imshow('img',img)\n",
    "cv.waitKey(0)"
   ]
  },
  {
   "cell_type": "markdown",
   "metadata": {},
   "source": [
    "## SURF \n",
    "SIFT 速度慢\n",
    "  "
   ]
  },
  {
   "cell_type": "markdown",
   "metadata": {},
   "source": [
    "## ORB\n",
    "实时检测\n"
   ]
  },
  {
   "cell_type": "markdown",
   "metadata": {},
   "source": [
    "## 特征匹配\n",
    " ### BF\n",
    " ### FLANN\n",
    " "
   ]
  },
  {
   "cell_type": "markdown",
   "metadata": {},
   "source": []
  },
  {
   "cell_type": "markdown",
   "metadata": {},
   "source": []
  },
  {
   "cell_type": "markdown",
   "metadata": {},
   "source": []
  },
  {
   "cell_type": "code",
   "execution_count": null,
   "metadata": {},
   "outputs": [],
   "source": []
  }
 ],
 "metadata": {
  "kernelspec": {
   "display_name": "OpenCV",
   "language": "python",
   "name": "python3"
  },
  "language_info": {
   "codemirror_mode": {
    "name": "ipython",
    "version": 3
   },
   "file_extension": ".py",
   "mimetype": "text/x-python",
   "name": "python",
   "nbconvert_exporter": "python",
   "pygments_lexer": "ipython3",
   "version": "3.8.20"
  }
 },
 "nbformat": 4,
 "nbformat_minor": 2
}
