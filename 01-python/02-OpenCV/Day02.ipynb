{
 "cells": [
  {
   "cell_type": "markdown",
   "metadata": {},
   "source": [
    "# Mat\n",
    "在OpenCV中，​**Mat** 是核心数据结构，代表 ​矩阵（Matrix）​，用于存储图像、多维数组或数学运算中的数据。它是OpenCV中进行图像处理和计算机视觉操作的基石。"
   ]
  },
  {
   "cell_type": "code",
   "execution_count": 2,
   "metadata": {},
   "outputs": [],
   "source": [
    "import cv2\n",
    "import numpy as np\n"
   ]
  },
  {
   "cell_type": "markdown",
   "metadata": {},
   "source": [
    "## 深拷贝 浅拷贝\n"
   ]
  },
  {
   "cell_type": "code",
   "execution_count": null,
   "metadata": {},
   "outputs": [],
   "source": []
  },
  {
   "cell_type": "markdown",
   "metadata": {},
   "source": [
    "## 绘制\n"
   ]
  },
  {
   "cell_type": "code",
   "execution_count": 3,
   "metadata": {},
   "outputs": [
    {
     "data": {
      "text/plain": [
       "-1"
      ]
     },
     "execution_count": 3,
     "metadata": {},
     "output_type": "execute_result"
    }
   ],
   "source": [
    "# 综合绘制\n",
    "canvas = np.zeros((500, 800, 3), dtype=np.uint8)  # 黑色背景\n",
    "\n",
    "# 画车体（矩形 + 多边形）\n",
    "cv2.rectangle(canvas, (100, 300), (700, 500), (0, 255, 255), thickness=-1)\n",
    "roof_pts = np.array([[200, 250], [600, 250], [700, 300], [100, 300]], np.int32)\n",
    "cv2.fillPoly(canvas, [roof_pts], (255, 0, 0))\n",
    "\n",
    "# 画车轮\n",
    "cv2.circle(canvas, (250, 500), 50, (0, 0, 255), -1)\n",
    "cv2.circle(canvas, (550, 500), 50, (0, 0, 255), -1)\n",
    "\n",
    "# 添加文字\n",
    "cv2.putText(canvas, 'CAR', (350, 200), \n",
    "           cv2.FONT_HERSHEY_COMPLEX, 2, (255, 255, 255), 2, cv2.LINE_AA)\n",
    "\n",
    "cv2.imshow(\"Drawing Demo\", canvas)\n",
    "cv2.waitKey(0)"
   ]
  },
  {
   "cell_type": "markdown",
   "metadata": {},
   "source": []
  },
  {
   "cell_type": "markdown",
   "metadata": {},
   "source": [
    "# 仿射变换\n",
    "放大，缩小，平移等的集合"
   ]
  },
  {
   "cell_type": "markdown",
   "metadata": {},
   "source": [
    "# 透视变换\n"
   ]
  }
 ],
 "metadata": {
  "kernelspec": {
   "display_name": "OpenCV",
   "language": "python",
   "name": "python3"
  },
  "language_info": {
   "codemirror_mode": {
    "name": "ipython",
    "version": 3
   },
   "file_extension": ".py",
   "mimetype": "text/x-python",
   "name": "python",
   "nbconvert_exporter": "python",
   "pygments_lexer": "ipython3",
   "version": "3.8.20"
  }
 },
 "nbformat": 4,
 "nbformat_minor": 2
}
